from keras.preprocessing import image
from keras.models import load_model
import cv2
import numpy as np
from datetime import datetime

model = load_model("model.h5") #load yout model
attendance = {}
def Classattendance(label): 
    date = datetime.now().strftime("%Y-%m-%d")
    time = datetime.now().strftime("%H:%M:%S")
    
    if label in attendance:
        if date in attendance[label]["date"]:
            pass
        else:
            attendance[label]["date"].append(date)
            attendance[label]["time"].append(time)
    else:
        attendance[label] = {"date": [date], "time": [time]}

face_cascade = cv2.CascadeClassifier(cv2.data.haarcascades + 'haarcascade_frontalface_default.xml')

cap = cv2.VideoCapture(0) 

while True:
    ret, frame = cap.read()
    if not ret:
        break
    
    gray_frame = cv2.cvtColor(frame, cv2.COLOR_BGR2GRAY)  
    faces = face_cascade.detectMultiScale(gray_frame, scaleFactor=1.1, minNeighbors=5, minSize=(30, 30))
    
    for (x, y, w, h) in faces:
        face_roi = gray_frame[y:y+h, x:x+w] 
        resized_face = cv2.resize(face_roi, (64, 64)) 
        
        rgb_face = cv2.cvtColor(resized_face, cv2.COLOR_GRAY2RGB)
        
        test_image = image.img_to_array(rgb_face) 
        test_image = np.expand_dims(test_image, axis=0)  
        result = model.predict(test_image)  
        
        if result[0][0] == 1:
            label = 'Student 1'
        else:
            label = 'Student 2'
        Classattendance(label) 
        cv2.putText(frame, label, (x, y-10), cv2.FONT_HERSHEY_SIMPLEX, 0.9, (36, 255, 12), 2) 
        
        cv2.rectangle(frame, (x, y), (x+w, y+h), (255, 0, 0), 2) 
    
    cv2.imshow('Attendance Tracking', frame) 
    
    if cv2.waitKey(1) & 0xFF == ord('q'):
        break
    
    if len(attendance) == 2:
        break

cap.release()
cv2.destroyAllWindows()

print(f"Attendance : {datetime.now().strftime('%d-%m-%Y')}")
print('------------------------')
print()
for student_number, (person, info) in enumerate(attendance.items(), start=1):
    print(f"No. {student_number}\nStudent name - {person} \nEntry time - {', '.join(info['time'])}\n")

